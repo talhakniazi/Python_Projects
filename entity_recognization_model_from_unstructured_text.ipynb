{
  "nbformat": 4,
  "nbformat_minor": 0,
  "metadata": {
    "colab": {
      "provenance": []
    },
    "kernelspec": {
      "name": "python3",
      "display_name": "Python 3"
    },
    "language_info": {
      "name": "python"
    }
  },
  "cells": [
    {
      "cell_type": "code",
      "execution_count": 1,
      "metadata": {
        "id": "O4R4_GhhbZvi"
      },
      "outputs": [],
      "source": [
        "import spacy\n",
        "from spacy import displacy"
      ]
    },
    {
      "cell_type": "code",
      "source": [
        "nlp = spacy.load(\"en_core_web_sm\")"
      ],
      "metadata": {
        "id": "847NUbqHk3UR"
      },
      "execution_count": 2,
      "outputs": []
    },
    {
      "cell_type": "code",
      "source": [
        "def process_text(text, custom_patterns=None):\n",
        "    \"\"\"\n",
        "    Process a text to extract named entities and optionally add custom patterns.\n",
        "\n",
        "    Args:\n",
        "        text (str): The text to process.\n",
        "        custom_patterns (list): List of custom entity patterns (optional).\n",
        "\n",
        "    Returns:\n",
        "        None\n",
        "    \"\"\"\n",
        "    if \"custom_ruler\" in nlp.pipe_names:\n",
        "        nlp.remove_pipe(\"custom_ruler\")\n",
        "\n",
        "\n",
        "    if custom_patterns:\n",
        "        # Add custom entity rules if provided\n",
        "        ruler = nlp.add_pipe(\"entity_ruler\", before=\"ner\", name=\"custom_ruler\")\n",
        "        ruler.add_patterns(custom_patterns)\n",
        "\n",
        "    # Process the text\n",
        "    doc = nlp(text)\n",
        "\n",
        "    # Print the entities\n",
        "    print(\"\\nExtracted Entities:\")\n",
        "    for ent in doc.ents:\n",
        "        print(f\"Entity: {ent.text}, Label: {ent.label_}\")\n",
        "\n",
        "    # Filter and print specific entities\n",
        "    print(\"\\nFiltered Entities (PERSON, ORG, GPE):\")\n",
        "    for ent in doc.ents:\n",
        "        if ent.label_ in {\"PERSON\", \"ORG\", \"GPE\"}:\n",
        "            print(f\"{ent.label_}: {ent.text}\")\n",
        "\n",
        "    # Visualize entities (comment out if not running in Jupyter/Colab)\n",
        "    print(\"\\nEntity Visualization:\")\n",
        "    displacy.render(doc, style=\"ent\", jupyter=True)"
      ],
      "metadata": {
        "id": "_WkUa7m6mRvp"
      },
      "execution_count": 23,
      "outputs": []
    },
    {
      "cell_type": "code",
      "source": [
        "text1 = \"\"\"\n",
        "Elon Musk, the CEO of SpaceX, announced the launch of the Starship rocket from Cape Canaveral.\n",
        "This project, funded by NASA, aims to revolutionize space exploration. Musk stated that Tesla's\n",
        "Gigafactory in Austin, Texas, will contribute to the project.\n",
        "\"\"\""
      ],
      "metadata": {
        "id": "DyBY3qv2mrv4"
      },
      "execution_count": 24,
      "outputs": []
    },
    {
      "cell_type": "code",
      "source": [
        "text2 = \"\"\"\n",
        "Apple Inc. revealed its latest iPhone 15 Pro at an event held in Cupertino, California.\n",
        "CEO Tim Cook emphasized the advanced features of the device, including the A17 Bionic chip.\n",
        "The device is expected to compete with Samsung's Galaxy series in the global market.\n",
        "\"\"\""
      ],
      "metadata": {
        "id": "gxGLhtmemif1"
      },
      "execution_count": 25,
      "outputs": []
    },
    {
      "cell_type": "code",
      "source": [
        "custom_patterns = [\n",
        "    {\"label\": \"PROJECT\", \"pattern\": \"Starship\"},\n",
        "    {\"label\": \"PRODUCT\", \"pattern\": \"Gigafactory\"},\n",
        "    {\"label\": \"PRODUCT\", \"pattern\": \"iPhone 15 Pro\"},\n",
        "]"
      ],
      "metadata": {
        "id": "y6X4OW7ImzJS"
      },
      "execution_count": 26,
      "outputs": []
    },
    {
      "cell_type": "code",
      "source": [
        "print(\"Processing Text 1:\")\n",
        "process_text(text1, custom_patterns)"
      ],
      "metadata": {
        "colab": {
          "base_uri": "https://localhost:8080/",
          "height": 591
        },
        "id": "Zk4fpgCqm1k2",
        "outputId": "3339c421-e8ea-4340-d56c-c06e47df0744"
      },
      "execution_count": 27,
      "outputs": [
        {
          "output_type": "stream",
          "name": "stdout",
          "text": [
            "Processing Text 1:\n",
            "\n",
            "Extracted Entities:\n",
            "Entity: Elon Musk, Label: PERSON\n",
            "Entity: SpaceX, Label: ORG\n",
            "Entity: Starship, Label: PROJECT\n",
            "Entity: Cape Canaveral, Label: GPE\n",
            "Entity: NASA, Label: ORG\n",
            "Entity: Musk, Label: PERSON\n",
            "Entity: Tesla, Label: ORG\n",
            "Entity: Gigafactory, Label: PRODUCT\n",
            "Entity: Austin, Label: GPE\n",
            "Entity: Texas, Label: GPE\n",
            "\n",
            "Filtered Entities (PERSON, ORG, GPE):\n",
            "PERSON: Elon Musk\n",
            "ORG: SpaceX\n",
            "GPE: Cape Canaveral\n",
            "ORG: NASA\n",
            "PERSON: Musk\n",
            "ORG: Tesla\n",
            "GPE: Austin\n",
            "GPE: Texas\n",
            "\n",
            "Entity Visualization:\n"
          ]
        },
        {
          "output_type": "display_data",
          "data": {
            "text/plain": [
              "<IPython.core.display.HTML object>"
            ],
            "text/html": [
              "<span class=\"tex2jax_ignore\"><div class=\"entities\" style=\"line-height: 2.5; direction: ltr\"><br>\n",
              "<mark class=\"entity\" style=\"background: #aa9cfc; padding: 0.45em 0.6em; margin: 0 0.25em; line-height: 1; border-radius: 0.35em;\">\n",
              "    Elon Musk\n",
              "    <span style=\"font-size: 0.8em; font-weight: bold; line-height: 1; border-radius: 0.35em; vertical-align: middle; margin-left: 0.5rem\">PERSON</span>\n",
              "</mark>\n",
              ", the CEO of \n",
              "<mark class=\"entity\" style=\"background: #7aecec; padding: 0.45em 0.6em; margin: 0 0.25em; line-height: 1; border-radius: 0.35em;\">\n",
              "    SpaceX\n",
              "    <span style=\"font-size: 0.8em; font-weight: bold; line-height: 1; border-radius: 0.35em; vertical-align: middle; margin-left: 0.5rem\">ORG</span>\n",
              "</mark>\n",
              ", announced the launch of the \n",
              "<mark class=\"entity\" style=\"background: #ddd; padding: 0.45em 0.6em; margin: 0 0.25em; line-height: 1; border-radius: 0.35em;\">\n",
              "    Starship\n",
              "    <span style=\"font-size: 0.8em; font-weight: bold; line-height: 1; border-radius: 0.35em; vertical-align: middle; margin-left: 0.5rem\">PROJECT</span>\n",
              "</mark>\n",
              " rocket from \n",
              "<mark class=\"entity\" style=\"background: #feca74; padding: 0.45em 0.6em; margin: 0 0.25em; line-height: 1; border-radius: 0.35em;\">\n",
              "    Cape Canaveral\n",
              "    <span style=\"font-size: 0.8em; font-weight: bold; line-height: 1; border-radius: 0.35em; vertical-align: middle; margin-left: 0.5rem\">GPE</span>\n",
              "</mark>\n",
              ".<br>This project, funded by \n",
              "<mark class=\"entity\" style=\"background: #7aecec; padding: 0.45em 0.6em; margin: 0 0.25em; line-height: 1; border-radius: 0.35em;\">\n",
              "    NASA\n",
              "    <span style=\"font-size: 0.8em; font-weight: bold; line-height: 1; border-radius: 0.35em; vertical-align: middle; margin-left: 0.5rem\">ORG</span>\n",
              "</mark>\n",
              ", aims to revolutionize space exploration. \n",
              "<mark class=\"entity\" style=\"background: #aa9cfc; padding: 0.45em 0.6em; margin: 0 0.25em; line-height: 1; border-radius: 0.35em;\">\n",
              "    Musk\n",
              "    <span style=\"font-size: 0.8em; font-weight: bold; line-height: 1; border-radius: 0.35em; vertical-align: middle; margin-left: 0.5rem\">PERSON</span>\n",
              "</mark>\n",
              " stated that \n",
              "<mark class=\"entity\" style=\"background: #7aecec; padding: 0.45em 0.6em; margin: 0 0.25em; line-height: 1; border-radius: 0.35em;\">\n",
              "    Tesla\n",
              "    <span style=\"font-size: 0.8em; font-weight: bold; line-height: 1; border-radius: 0.35em; vertical-align: middle; margin-left: 0.5rem\">ORG</span>\n",
              "</mark>\n",
              "'s<br>\n",
              "<mark class=\"entity\" style=\"background: #bfeeb7; padding: 0.45em 0.6em; margin: 0 0.25em; line-height: 1; border-radius: 0.35em;\">\n",
              "    Gigafactory\n",
              "    <span style=\"font-size: 0.8em; font-weight: bold; line-height: 1; border-radius: 0.35em; vertical-align: middle; margin-left: 0.5rem\">PRODUCT</span>\n",
              "</mark>\n",
              " in \n",
              "<mark class=\"entity\" style=\"background: #feca74; padding: 0.45em 0.6em; margin: 0 0.25em; line-height: 1; border-radius: 0.35em;\">\n",
              "    Austin\n",
              "    <span style=\"font-size: 0.8em; font-weight: bold; line-height: 1; border-radius: 0.35em; vertical-align: middle; margin-left: 0.5rem\">GPE</span>\n",
              "</mark>\n",
              ", \n",
              "<mark class=\"entity\" style=\"background: #feca74; padding: 0.45em 0.6em; margin: 0 0.25em; line-height: 1; border-radius: 0.35em;\">\n",
              "    Texas\n",
              "    <span style=\"font-size: 0.8em; font-weight: bold; line-height: 1; border-radius: 0.35em; vertical-align: middle; margin-left: 0.5rem\">GPE</span>\n",
              "</mark>\n",
              ", will contribute to the project.<br></div></span>"
            ]
          },
          "metadata": {}
        }
      ]
    },
    {
      "cell_type": "code",
      "source": [
        "print(\"\\nProcessing Text 2:\")\n",
        "process_text(text2, custom_patterns)"
      ],
      "metadata": {
        "colab": {
          "base_uri": "https://localhost:8080/",
          "height": 539
        },
        "id": "BY1q-6C-o1p7",
        "outputId": "b785c9b4-b578-4265-8f91-cf80e70d6f52"
      },
      "execution_count": 28,
      "outputs": [
        {
          "output_type": "stream",
          "name": "stdout",
          "text": [
            "\n",
            "Processing Text 2:\n",
            "\n",
            "Extracted Entities:\n",
            "Entity: Apple Inc., Label: ORG\n",
            "Entity: iPhone 15 Pro, Label: PRODUCT\n",
            "Entity: Cupertino, Label: GPE\n",
            "Entity: California, Label: GPE\n",
            "Entity: Tim Cook, Label: PERSON\n",
            "Entity: A17 Bionic, Label: PRODUCT\n",
            "Entity: Samsung, Label: ORG\n",
            "Entity: Galaxy, Label: ORG\n",
            "\n",
            "Filtered Entities (PERSON, ORG, GPE):\n",
            "ORG: Apple Inc.\n",
            "GPE: Cupertino\n",
            "GPE: California\n",
            "PERSON: Tim Cook\n",
            "ORG: Samsung\n",
            "ORG: Galaxy\n",
            "\n",
            "Entity Visualization:\n"
          ]
        },
        {
          "output_type": "display_data",
          "data": {
            "text/plain": [
              "<IPython.core.display.HTML object>"
            ],
            "text/html": [
              "<span class=\"tex2jax_ignore\"><div class=\"entities\" style=\"line-height: 2.5; direction: ltr\"><br>\n",
              "<mark class=\"entity\" style=\"background: #7aecec; padding: 0.45em 0.6em; margin: 0 0.25em; line-height: 1; border-radius: 0.35em;\">\n",
              "    Apple Inc.\n",
              "    <span style=\"font-size: 0.8em; font-weight: bold; line-height: 1; border-radius: 0.35em; vertical-align: middle; margin-left: 0.5rem\">ORG</span>\n",
              "</mark>\n",
              " revealed its latest \n",
              "<mark class=\"entity\" style=\"background: #bfeeb7; padding: 0.45em 0.6em; margin: 0 0.25em; line-height: 1; border-radius: 0.35em;\">\n",
              "    iPhone 15 Pro\n",
              "    <span style=\"font-size: 0.8em; font-weight: bold; line-height: 1; border-radius: 0.35em; vertical-align: middle; margin-left: 0.5rem\">PRODUCT</span>\n",
              "</mark>\n",
              " at an event held in \n",
              "<mark class=\"entity\" style=\"background: #feca74; padding: 0.45em 0.6em; margin: 0 0.25em; line-height: 1; border-radius: 0.35em;\">\n",
              "    Cupertino\n",
              "    <span style=\"font-size: 0.8em; font-weight: bold; line-height: 1; border-radius: 0.35em; vertical-align: middle; margin-left: 0.5rem\">GPE</span>\n",
              "</mark>\n",
              ", \n",
              "<mark class=\"entity\" style=\"background: #feca74; padding: 0.45em 0.6em; margin: 0 0.25em; line-height: 1; border-radius: 0.35em;\">\n",
              "    California\n",
              "    <span style=\"font-size: 0.8em; font-weight: bold; line-height: 1; border-radius: 0.35em; vertical-align: middle; margin-left: 0.5rem\">GPE</span>\n",
              "</mark>\n",
              ". <br>CEO \n",
              "<mark class=\"entity\" style=\"background: #aa9cfc; padding: 0.45em 0.6em; margin: 0 0.25em; line-height: 1; border-radius: 0.35em;\">\n",
              "    Tim Cook\n",
              "    <span style=\"font-size: 0.8em; font-weight: bold; line-height: 1; border-radius: 0.35em; vertical-align: middle; margin-left: 0.5rem\">PERSON</span>\n",
              "</mark>\n",
              " emphasized the advanced features of the device, including the \n",
              "<mark class=\"entity\" style=\"background: #bfeeb7; padding: 0.45em 0.6em; margin: 0 0.25em; line-height: 1; border-radius: 0.35em;\">\n",
              "    A17 Bionic\n",
              "    <span style=\"font-size: 0.8em; font-weight: bold; line-height: 1; border-radius: 0.35em; vertical-align: middle; margin-left: 0.5rem\">PRODUCT</span>\n",
              "</mark>\n",
              " chip.<br>The device is expected to compete with \n",
              "<mark class=\"entity\" style=\"background: #7aecec; padding: 0.45em 0.6em; margin: 0 0.25em; line-height: 1; border-radius: 0.35em;\">\n",
              "    Samsung\n",
              "    <span style=\"font-size: 0.8em; font-weight: bold; line-height: 1; border-radius: 0.35em; vertical-align: middle; margin-left: 0.5rem\">ORG</span>\n",
              "</mark>\n",
              "'s \n",
              "<mark class=\"entity\" style=\"background: #7aecec; padding: 0.45em 0.6em; margin: 0 0.25em; line-height: 1; border-radius: 0.35em;\">\n",
              "    Galaxy\n",
              "    <span style=\"font-size: 0.8em; font-weight: bold; line-height: 1; border-radius: 0.35em; vertical-align: middle; margin-left: 0.5rem\">ORG</span>\n",
              "</mark>\n",
              " series in the global market.<br></div></span>"
            ]
          },
          "metadata": {}
        }
      ]
    }
  ]
}