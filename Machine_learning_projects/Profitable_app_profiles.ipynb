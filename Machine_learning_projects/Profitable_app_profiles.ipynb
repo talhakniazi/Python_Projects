{
  "nbformat": 4,
  "nbformat_minor": 0,
  "metadata": {
    "colab": {
      "provenance": []
    },
    "kernelspec": {
      "name": "python3",
      "display_name": "Python 3"
    },
    "language_info": {
      "name": "python"
    }
  },
  "cells": [
    {
      "cell_type": "code",
      "execution_count": 12,
      "metadata": {
        "id": "MOOtFB7iYEon"
      },
      "outputs": [],
      "source": [
        "import pandas as pd\n",
        "import numpy as np"
      ]
    },
    {
      "cell_type": "code",
      "source": [
        "from google.colab import drive\n",
        "drive.mount('/content/drive')"
      ],
      "metadata": {
        "colab": {
          "base_uri": "https://localhost:8080/"
        },
        "id": "Mydz7-GxYeGl",
        "outputId": "991bfc23-b92a-4b4c-f686-bb8e19b1bd54"
      },
      "execution_count": 13,
      "outputs": [
        {
          "output_type": "stream",
          "name": "stdout",
          "text": [
            "Drive already mounted at /content/drive; to attempt to forcibly remount, call drive.mount(\"/content/drive\", force_remount=True).\n"
          ]
        }
      ]
    },
    {
      "cell_type": "code",
      "source": [
        "google_play_path = '/content/drive/My Drive/Colab Notebooks/Google-Playstore.csv'  # Update the path\n",
        "app_store_path = '/content/drive/My Drive/Colab Notebooks/appleAppData.csv'"
      ],
      "metadata": {
        "id": "h_R3kIv9YiGn"
      },
      "execution_count": 14,
      "outputs": []
    },
    {
      "cell_type": "code",
      "source": [
        "google_play_data = pd.read_csv(google_play_path)"
      ],
      "metadata": {
        "id": "b9-gBbpSgsHo"
      },
      "execution_count": 15,
      "outputs": []
    },
    {
      "cell_type": "code",
      "source": [
        "app_store_data = pd.read_csv(app_store_path)"
      ],
      "metadata": {
        "id": "_1nQ0urXhIvw"
      },
      "execution_count": 16,
      "outputs": []
    },
    {
      "cell_type": "code",
      "source": [
        "google_play_data = google_play_data.drop_duplicates(subset='App Name')  # Remove duplicate apps\n",
        "google_play_data = google_play_data.dropna(subset=['Rating', 'Installs'])  # Remove rows with missing values"
      ],
      "metadata": {
        "id": "R6YOYdPOhP4z"
      },
      "execution_count": 18,
      "outputs": []
    },
    {
      "cell_type": "code",
      "source": [
        "google_play_data['Installs'] = google_play_data['Installs'].str.replace('[+,]', '', regex=True).astype(int)"
      ],
      "metadata": {
        "id": "jbPWHyPD1OOp"
      },
      "execution_count": 19,
      "outputs": []
    },
    {
      "cell_type": "code",
      "source": [
        "google_play_data['Size'] = pd.to_numeric(google_play_data['Size'].str.replace('M', '').str.replace('k', '').replace('Varies with device', np.nan), errors='coerce')"
      ],
      "metadata": {
        "id": "Sqjv5yF2-kr-"
      },
      "execution_count": 28,
      "outputs": []
    },
    {
      "cell_type": "code",
      "source": [
        "app_store_data = app_store_data.dropna(subset=['Average_User_Rating', 'Reviews', 'Size_Bytes', 'Price'])  # Drop rows with missing values\n",
        "app_store_data['Size_MB'] = app_store_data['Size_Bytes'] / (1024 ** 2)  # Convert bytes to MB"
      ],
      "metadata": {
        "colab": {
          "base_uri": "https://localhost:8080/"
        },
        "id": "bupUzD0o-79o",
        "outputId": "b9dc4daf-a6a3-4a16-fe8b-84297ab5f09f"
      },
      "execution_count": 29,
      "outputs": [
        {
          "output_type": "stream",
          "name": "stderr",
          "text": [
            "<ipython-input-29-20766f332494>:2: SettingWithCopyWarning: \n",
            "A value is trying to be set on a copy of a slice from a DataFrame.\n",
            "Try using .loc[row_indexer,col_indexer] = value instead\n",
            "\n",
            "See the caveats in the documentation: https://pandas.pydata.org/pandas-docs/stable/user_guide/indexing.html#returning-a-view-versus-a-copy\n",
            "  app_store_data['Size_MB'] = app_store_data['Size_Bytes'] / (1024 ** 2)  # Convert bytes to MB\n"
          ]
        }
      ]
    },
    {
      "cell_type": "code",
      "source": [
        "app_store_data = app_store_data.dropna(subset=['Average_User_Rating'])  # Remove rows with missing user ratings"
      ],
      "metadata": {
        "id": "RzB9BzzE1TQA"
      },
      "execution_count": 20,
      "outputs": []
    },
    {
      "cell_type": "code",
      "source": [
        "def analyze_google_play(data):\n",
        "    print(\"\\nGoogle Play Store Analysis\")\n",
        "    category_stats = data.groupby('Category').agg({\n",
        "        'Installs': 'mean',\n",
        "        'Rating': 'mean',\n",
        "        'Rating Count': 'mean',\n",
        "        'Size': 'mean',\n",
        "        'Price': 'mean'\n",
        "    }).sort_values(by='Installs', ascending=False)\n",
        "\n",
        "    print(\"\\nCategory Statistics (Google Play):\")\n",
        "    print(category_stats)\n",
        "    return category_stats"
      ],
      "metadata": {
        "id": "ZZT6f_3s1ZoS"
      },
      "execution_count": 32,
      "outputs": []
    },
    {
      "cell_type": "code",
      "source": [
        "def analyze_app_store(data):\n",
        "    print(\"\\nApp Store Analysis\")\n",
        "    genre_stats = data.groupby('Primary_Genre').agg({\n",
        "        'Average_User_Rating': 'mean',\n",
        "        'Reviews': 'mean',\n",
        "        'Size_MB': 'mean',\n",
        "        'Price': 'mean'\n",
        "    }).sort_values(by='Average_User_Rating', ascending=False)\n",
        "\n",
        "    print(\"\\nGenre Statistics (App Store):\")\n",
        "    print(genre_stats)\n",
        "    return genre_stats"
      ],
      "metadata": {
        "id": "Wp1Qz88L1jCj"
      },
      "execution_count": 33,
      "outputs": []
    },
    {
      "cell_type": "code",
      "source": [
        "google_play_stats = analyze_google_play(google_play_data)\n",
        "app_store_stats = analyze_app_store(app_store_data)"
      ],
      "metadata": {
        "colab": {
          "base_uri": "https://localhost:8080/"
        },
        "id": "bovEyVpw1nJ7",
        "outputId": "62b03d2c-e5f7-44cf-b068-10d3b8ef72fa"
      },
      "execution_count": 34,
      "outputs": [
        {
          "output_type": "stream",
          "name": "stdout",
          "text": [
            "\n",
            "Google Play Store Analysis\n",
            "\n",
            "Category Statistics (Google Play):\n",
            "                             Installs    Rating  Rating Count       Size  \\\n",
            "Category                                                                   \n",
            "Video Players & Editors  1.344494e+06  2.887002  18885.424247  32.897878   \n",
            "Communication            9.047840e+05  2.116807  10077.768169  26.521100   \n",
            "Racing                   8.710739e+05  2.969274  16362.054835  45.220440   \n",
            "Action                   6.574906e+05  2.725329  21347.510356  43.957904   \n",
            "Photography              5.603846e+05  2.513765   6393.654430  22.321482   \n",
            "Simulation               5.156109e+05  3.223337  10230.654715  46.842337   \n",
            "Strategy                 5.118699e+05  2.911381  29498.437221  48.067671   \n",
            "Role Playing             4.906358e+05  3.393324  14369.326220  53.185379   \n",
            "Tools                    4.890459e+05  2.335021   3212.983823  32.221158   \n",
            "Social                   4.016063e+05  2.396545  11088.713121  24.662565   \n",
            "Weather                  3.895635e+05  3.151135   5029.916791  36.446691   \n",
            "Music                    3.871687e+05  2.667713   5951.394868  35.627959   \n",
            "Productivity             3.716732e+05  1.928013   1912.189196  29.189409   \n",
            "Casual                   3.365905e+05  2.449989   7502.899631  31.959492   \n",
            "Board                    2.733065e+05  2.803963   5618.228101  30.809199   \n",
            "Arcade                   2.667040e+05  2.469335   4650.761832  29.881480   \n",
            "Casino                   2.573018e+05  3.289248  10090.358455  40.328650   \n",
            "Adventure                2.401811e+05  2.837368   5869.923586  38.213229   \n",
            "Educational              2.281570e+05  2.446580   1421.639000  35.368021   \n",
            "Word                     2.057028e+05  2.911601   5845.384950  28.300597   \n",
            "Puzzle                   2.031676e+05  2.709783   4191.302167  31.986130   \n",
            "Card                     1.879927e+05  3.040697   5731.372113  35.595729   \n",
            "Sports                   1.547396e+05  2.309824   4164.487389  27.592632   \n",
            "Travel & Local           1.463942e+05  1.918957   1071.585910  26.596227   \n",
            "Comics                   1.326012e+05  2.867459   2281.228519  32.600193   \n",
            "Entertainment            1.254784e+05  2.440752   1664.509019  21.339959   \n",
            "News & Magazines         1.085247e+05  2.492524    758.384666  22.335191   \n",
            "Personalization          1.034198e+05  2.791870   1438.133560  23.883200   \n",
            "Maps & Navigation        1.027443e+05  2.226684   2447.487574  23.840300   \n",
            "Dating                   1.012477e+05  2.457863   2227.227626  23.810055   \n",
            "Finance                  9.639380e+04  2.400346   3030.477414  27.418764   \n",
            "Trivia                   9.518882e+04  2.525495   3168.613170  23.851172   \n",
            "Shopping                 9.360660e+04  1.836796   2835.069789  23.857758   \n",
            "Music & Audio            6.849774e+04  2.219798   1122.889338  22.721452   \n",
            "Parenting                6.447796e+04  2.410711   1770.099640  23.902687   \n",
            "Art & Design             6.137922e+04  1.964342    908.987090  19.015047   \n",
            "Libraries & Demo         5.785645e+04  2.093249    701.927333  50.915634   \n",
            "Health & Fitness         5.156929e+04  1.618188    816.238282  33.757821   \n",
            "Lifestyle                4.941489e+04  1.903289    766.126544  24.944349   \n",
            "Books & Reference        3.921807e+04  2.439296    601.298210  21.665066   \n",
            "Auto & Vehicles          3.335469e+04  2.052545    615.701991  27.572419   \n",
            "Beauty                   3.310083e+04  1.416839    377.448481  16.080018   \n",
            "Business                 2.983131e+04  1.435070    433.834176  26.022769   \n",
            "House & Home             2.863758e+04  1.484793    480.019437  22.532460   \n",
            "Education                2.423878e+04  2.238640    430.787126  27.049043   \n",
            "Food & Drink             2.154711e+04  1.288324    691.539066  18.072720   \n",
            "Medical                  2.007827e+04  1.838093    383.908985  30.512025   \n",
            "Events                   5.481972e+03  1.262930     69.255519  21.513484   \n",
            "\n",
            "                            Price  \n",
            "Category                           \n",
            "Video Players & Editors  0.134710  \n",
            "Communication            0.044890  \n",
            "Racing                   0.036496  \n",
            "Action                   0.069668  \n",
            "Photography              0.070917  \n",
            "Simulation               0.113549  \n",
            "Strategy                 0.241301  \n",
            "Role Playing             0.326491  \n",
            "Tools                    0.152213  \n",
            "Social                   0.042476  \n",
            "Weather                  0.154997  \n",
            "Music                    0.065130  \n",
            "Productivity             0.135472  \n",
            "Casual                   0.053217  \n",
            "Board                    0.188879  \n",
            "Arcade                   0.087706  \n",
            "Casino                   0.074005  \n",
            "Adventure                0.186304  \n",
            "Educational              0.179745  \n",
            "Word                     0.106654  \n",
            "Puzzle                   0.094476  \n",
            "Card                     0.141629  \n",
            "Sports                   0.230711  \n",
            "Travel & Local           0.075447  \n",
            "Comics                   0.056262  \n",
            "Entertainment            0.050337  \n",
            "News & Magazines         0.006680  \n",
            "Personalization          0.123283  \n",
            "Maps & Navigation        0.154035  \n",
            "Dating                   0.089377  \n",
            "Finance                  0.052538  \n",
            "Trivia                   0.033918  \n",
            "Shopping                 0.008396  \n",
            "Music & Audio            0.044469  \n",
            "Parenting                0.070980  \n",
            "Art & Design             0.083289  \n",
            "Libraries & Demo         0.044616  \n",
            "Health & Fitness         0.102259  \n",
            "Lifestyle                0.072126  \n",
            "Books & Reference        0.204754  \n",
            "Auto & Vehicles          0.119569  \n",
            "Beauty                   0.005082  \n",
            "Business                 0.057675  \n",
            "House & Home             0.019764  \n",
            "Education                0.170482  \n",
            "Food & Drink             0.020764  \n",
            "Medical                  0.732757  \n",
            "Events                   0.003401  \n",
            "\n",
            "App Store Analysis\n",
            "\n",
            "Genre Statistics (App Store):\n",
            "                        Average_User_Rating      Reviews     Size_MB     Price\n",
            "Primary_Genre                                                                 \n",
            "Weather                            2.594045  3147.314623   51.520926  0.666298\n",
            "Games                              2.557332  1335.485553  142.514160  0.277227\n",
            "Photo & Video                      2.306259  2957.832736   58.210151  1.238679\n",
            "Music                              2.253994  1729.862786   73.181928  1.505414\n",
            "Book                               2.182049  1031.995293   86.477978  0.625991\n",
            "Reference                          2.180238   736.913721   69.099722  1.297108\n",
            "Finance                            2.111061  2012.023610   54.033218  0.237173\n",
            "Entertainment                      2.020944   951.253284   69.604521  0.288484\n",
            "Social Networking                  1.994556  1259.913847   58.877341  0.119589\n",
            "Health & Fitness                   1.848943   495.931485   63.641096  0.278705\n",
            "Lifestyle                          1.799951   459.437572   52.074662  0.160620\n",
            "Education                          1.769181   222.054041   80.238123  0.981684\n",
            "Sports                             1.729068   419.225401   56.363982  0.528561\n",
            "Medical                            1.719613   195.775345   60.980903  1.388844\n",
            "News                               1.628446   667.708564   43.673292  0.064466\n",
            "Magazines & Newspapers             1.603944    47.185813   48.926462  0.012305\n",
            "Navigation                         1.520375   839.875910   59.208963  0.900588\n",
            "Graphics & Design                  1.519685   838.633453  151.808126  6.982309\n",
            "Shopping                           1.515035  1496.725083   54.474121  0.016119\n",
            "Stickers                           1.483230     5.298219   10.019786  0.918461\n",
            "Productivity                       1.422841   519.254405   45.494306  0.888851\n",
            "Utilities                          1.407489   366.132400   41.906940  0.585330\n",
            "Travel                             1.295882  1211.505992   68.319781  0.270790\n",
            "Business                           1.275981   216.360915   54.910720  0.368580\n",
            "Food & Drink                       1.113648   790.917709   49.952929  0.039276\n",
            "Developer Tools                    0.786030   336.167094   59.424581  4.807427\n"
          ]
        }
      ]
    },
    {
      "cell_type": "code",
      "source": [
        "def recommend_apps(google_stats, app_stats):\n",
        "    print(\"\\nRecommendations:\")\n",
        "\n",
        "    # Google Play Insights\n",
        "    top_google_category = google_stats.index[0]\n",
        "    top_google_installs = google_stats.loc[top_google_category, 'Installs']\n",
        "    print(f\"Google Play - Most Popular Category: {top_google_category} with {top_google_installs:,.0f} average installs.\")\n",
        "\n",
        "    # App Store Insights\n",
        "    top_app_genre = app_stats.index[0]\n",
        "    top_app_rating = app_stats.loc[top_app_genre, 'Average_User_Rating']\n",
        "    print(f\"App Store - Most Popular Genre: {top_app_genre} with an average user rating of {top_app_rating:.2f}.\")\n",
        "\n",
        "    # Custom Recommendations\n",
        "    print(\"\\nAdditional Recommendations:\")\n",
        "    print(\"1. Focus on categories with high installs and ratings on Google Play.\")\n",
        "    print(\"2. Optimize app size to attract more users, as smaller apps are often more appealing.\")\n",
        "    print(\"3. For the App Store, consider genres with high user ratings and reviews to maximize engagement.\")\n",
        "\n",
        "recommend_apps(google_play_stats, app_store_stats)"
      ],
      "metadata": {
        "colab": {
          "base_uri": "https://localhost:8080/"
        },
        "id": "xjrtvPWe1rJk",
        "outputId": "2d06a12c-60c7-416c-b2e0-037b8e27c8da"
      },
      "execution_count": 35,
      "outputs": [
        {
          "output_type": "stream",
          "name": "stdout",
          "text": [
            "\n",
            "Recommendations:\n",
            "Google Play - Most Popular Category: Video Players & Editors with 1,344,494 average installs.\n",
            "App Store - Most Popular Genre: Weather with an average user rating of 2.59.\n",
            "\n",
            "Additional Recommendations:\n",
            "1. Focus on categories with high installs and ratings on Google Play.\n",
            "2. Optimize app size to attract more users, as smaller apps are often more appealing.\n",
            "3. For the App Store, consider genres with high user ratings and reviews to maximize engagement.\n"
          ]
        }
      ]
    }
  ]
}